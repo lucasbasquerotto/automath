{
 "cells": [
  {
   "cell_type": "code",
   "execution_count": 9,
   "metadata": {},
   "outputs": [
    {
     "data": {
      "text/latex": [
       "$\\displaystyle \\operatorname{BaseNode}{\\left(1,\\operatorname{BaseNode}{\\left(456 \\right)},BaseNode \\right)}$"
      ],
      "text/plain": [
       "BaseNode(1, BaseNode(456), BaseNode)"
      ]
     },
     "execution_count": 9,
     "metadata": {},
     "output_type": "execute_result"
    }
   ],
   "source": [
    "from __future__ import annotations\n",
    "import typing\n",
    "import sympy\n",
    "\n",
    "class BaseNode:\n",
    "    def __init__(self, *args: int | BaseNode | typing.Type[BaseNode]):\n",
    "        assert all(\n",
    "            (\n",
    "                isinstance(arg, BaseNode)\n",
    "                or isinstance(arg, int)\n",
    "                or (isinstance(arg, type) and issubclass(arg, BaseNode))\n",
    "            )\n",
    "            for arg in args)\n",
    "        self._args = args\n",
    "\n",
    "    @property\n",
    "    def args(self) -> tuple[int | BaseNode | typing.Type[BaseNode], ...]:\n",
    "        return self._args\n",
    "\n",
    "    @property\n",
    "    def func(self) -> typing.Type[typing.Self]:\n",
    "        return type(self)\n",
    "\n",
    "    def __eq__(self, other) -> bool:\n",
    "        if not isinstance(other, BaseNode):\n",
    "            return False\n",
    "        if not self.func == other.func:\n",
    "            return False\n",
    "        if not len(self.args) == len(other.args):\n",
    "            return False\n",
    "        for i, arg in enumerate(self.args):\n",
    "            if arg != other.args[i]:\n",
    "                return False\n",
    "        return True\n",
    "\n",
    "    def eval(self) -> sympy.Basic:\n",
    "        name = self.func.__name__\n",
    "        if len(self.args) == 0:\n",
    "            return sympy.Symbol(name)\n",
    "\n",
    "        def eval_arg(arg: int | BaseNode | typing.Type[BaseNode]):\n",
    "            if isinstance(arg, BaseNode):\n",
    "                return arg.eval()\n",
    "            if isinstance(arg, int):\n",
    "                return sympy.Integer(arg)\n",
    "            if isinstance(arg, type) and issubclass(arg, BaseNode):\n",
    "                return sympy.Symbol(arg.__name__)\n",
    "            raise ValueError(f\"Invalid argument: {arg}\")\n",
    "\n",
    "        fn = sympy.Function(name)\n",
    "        args: list[sympy.Basic] = [eval_arg(arg) for arg in self.args]\n",
    "        return fn(*args)\n",
    "\n",
    "BaseNode(1, BaseNode(456), BaseNode).eval()"
   ]
  },
  {
   "cell_type": "code",
   "execution_count": 10,
   "metadata": {},
   "outputs": [
    {
     "data": {
      "text/plain": [
       "True"
      ]
     },
     "execution_count": 10,
     "metadata": {},
     "output_type": "execute_result"
    }
   ],
   "source": [
    "BaseNode(1, BaseNode(456), BaseNode) == BaseNode(1, BaseNode(456), BaseNode)"
   ]
  },
  {
   "cell_type": "code",
   "execution_count": 12,
   "metadata": {},
   "outputs": [
    {
     "data": {
      "text/plain": [
       "False"
      ]
     },
     "execution_count": 12,
     "metadata": {},
     "output_type": "execute_result"
    }
   ],
   "source": [
    "BaseNode(1, BaseNode(4567), BaseNode) == BaseNode(1, BaseNode(456), BaseNode)"
   ]
  },
  {
   "cell_type": "code",
   "execution_count": 13,
   "metadata": {},
   "outputs": [
    {
     "data": {
      "text/plain": [
       "True"
      ]
     },
     "execution_count": 13,
     "metadata": {},
     "output_type": "execute_result"
    }
   ],
   "source": [
    "sympy.Function('f')(1) == sympy.Function('f')(1)"
   ]
  },
  {
   "cell_type": "code",
   "execution_count": 14,
   "metadata": {},
   "outputs": [
    {
     "data": {
      "text/plain": [
       "False"
      ]
     },
     "execution_count": 14,
     "metadata": {},
     "output_type": "execute_result"
    }
   ],
   "source": [
    "sympy.Function('f')(1) == sympy.Function('g')(1)"
   ]
  }
 ],
 "metadata": {
  "kernelspec": {
   "display_name": "dev",
   "language": "python",
   "name": "python3"
  },
  "language_info": {
   "codemirror_mode": {
    "name": "ipython",
    "version": 3
   },
   "file_extension": ".py",
   "mimetype": "text/x-python",
   "name": "python",
   "nbconvert_exporter": "python",
   "pygments_lexer": "ipython3",
   "version": "3.11.5"
  }
 },
 "nbformat": 4,
 "nbformat_minor": 2
}
