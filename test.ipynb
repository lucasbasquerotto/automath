{
 "cells": [
  {
   "cell_type": "code",
   "execution_count": null,
   "metadata": {},
   "outputs": [],
   "source": [
    "from env.core import FunctionExpr, Param\n",
    "from env.goal_env import GoalEnv\n",
    "from env.node_types import HaveDefinition, AndNode, OrNode, IntBooleanNode\n",
    "\n",
    "params = (Param.from_int(1), Param.from_int(2), Param.from_int(3))\n",
    "p1, p2, p3 = params\n",
    "goal = HaveDefinition(\n",
    "    FunctionExpr.with_child(\n",
    "        OrNode(\n",
    "            AndNode(p1, p2, IntBooleanNode(1)),\n",
    "            AndNode(p2, p3),\n",
    "        ),\n",
    "    )\n",
    ")\n",
    "\n",
    "env = GoalEnv(goal)\n",
    "print('Amount of node types:', len(env.all_types))"
   ]
  },
  {
   "cell_type": "code",
   "execution_count": null,
   "metadata": {},
   "outputs": [],
   "source": [
    "GoalEnv.symbolic(env.current_state.nested_args((0, 0)).apply(), env.current_state.node_types())"
   ]
  },
  {
   "cell_type": "code",
   "execution_count": null,
   "metadata": {},
   "outputs": [],
   "source": [
    "env.to_symbolic_state()"
   ]
  },
  {
   "cell_type": "code",
   "execution_count": null,
   "metadata": {},
   "outputs": [],
   "source": [
    "# env.to_symbolic()"
   ]
  }
 ],
 "metadata": {
  "kernelspec": {
   "display_name": "dev",
   "language": "python",
   "name": "python3"
  },
  "language_info": {
   "codemirror_mode": {
    "name": "ipython",
    "version": 3
   },
   "file_extension": ".py",
   "mimetype": "text/x-python",
   "name": "python",
   "nbconvert_exporter": "python",
   "pygments_lexer": "ipython3",
   "version": "3.11.5"
  }
 },
 "nbformat": 4,
 "nbformat_minor": 2
}
