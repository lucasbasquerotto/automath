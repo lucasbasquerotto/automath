{
 "cells": [
  {
   "cell_type": "code",
   "execution_count": 1,
   "metadata": {},
   "outputs": [
    {
     "ename": "TypeError",
     "evalue": "Cannot create a consistent method resolution\norder (MRO) for bases INode, Generic, IInstantiable",
     "output_type": "error",
     "traceback": [
      "\u001b[1;31m---------------------------------------------------------------------------\u001b[0m",
      "\u001b[1;31mTypeError\u001b[0m                                 Traceback (most recent call last)",
      "Cell \u001b[1;32mIn[1], line 1\u001b[0m\n\u001b[1;32m----> 1\u001b[0m \u001b[38;5;28;01mfrom\u001b[39;00m \u001b[38;5;21;01menv\u001b[39;00m\u001b[38;5;21;01m.\u001b[39;00m\u001b[38;5;21;01mcore\u001b[39;00m \u001b[38;5;28;01mimport\u001b[39;00m FunctionExpr, Param\n\u001b[0;32m      2\u001b[0m \u001b[38;5;28;01mfrom\u001b[39;00m \u001b[38;5;21;01mimpl\u001b[39;00m\u001b[38;5;21;01m.\u001b[39;00m\u001b[38;5;21;01mgoal_env\u001b[39;00m \u001b[38;5;28;01mimport\u001b[39;00m GoalEnv\n\u001b[0;32m      3\u001b[0m \u001b[38;5;28;01mfrom\u001b[39;00m \u001b[38;5;21;01mimpl\u001b[39;00m\u001b[38;5;21;01m.\u001b[39;00m\u001b[38;5;21;01mnode_types\u001b[39;00m \u001b[38;5;28;01mimport\u001b[39;00m HaveDefinition, AndNode, OrNode, IntBooleanNode\n",
      "File \u001b[1;32mc:\\Users\\Asus\\git\\dev\\automath\\env\\core.py:551\u001b[0m\n\u001b[0;32m    548\u001b[0m     \u001b[38;5;28;01mdef\u001b[39;00m \u001b[38;5;21mvalid\u001b[39m(\u001b[38;5;28mself\u001b[39m, instance: INode) \u001b[38;5;241m-\u001b[39m\u001b[38;5;241m>\u001b[39m \u001b[38;5;28mbool\u001b[39m \u001b[38;5;241m|\u001b[39m \u001b[38;5;28;01mNone\u001b[39;00m:\n\u001b[0;32m    549\u001b[0m         \u001b[38;5;28;01mreturn\u001b[39;00m \u001b[38;5;28;01mNone\u001b[39;00m\n\u001b[1;32m--> 551\u001b[0m \u001b[38;5;28;43;01mclass\u001b[39;49;00m\u001b[43m \u001b[49m\u001b[38;5;21;43;01mOptional\u001b[39;49;00m\u001b[43m(\u001b[49m\u001b[43mInheritableNode\u001b[49m\u001b[43m,\u001b[49m\u001b[43m \u001b[49m\u001b[43mIOptional\u001b[49m\u001b[43m[\u001b[49m\u001b[43mT\u001b[49m\u001b[43m]\u001b[49m\u001b[43m,\u001b[49m\u001b[43m \u001b[49m\u001b[43mtyping\u001b[49m\u001b[38;5;241;43m.\u001b[39;49m\u001b[43mGeneric\u001b[49m\u001b[43m[\u001b[49m\u001b[43mT\u001b[49m\u001b[43m]\u001b[49m\u001b[43m,\u001b[49m\u001b[43m \u001b[49m\u001b[43mIInstantiable\u001b[49m\u001b[43m)\u001b[49m\u001b[43m:\u001b[49m\n\u001b[0;32m    553\u001b[0m \u001b[43m    \u001b[49m\u001b[38;5;129;43m@classmethod\u001b[39;49m\n\u001b[0;32m    554\u001b[0m \u001b[43m    \u001b[49m\u001b[38;5;28;43;01mdef\u001b[39;49;00m\u001b[43m \u001b[49m\u001b[38;5;21;43marg_type_group\u001b[39;49m\u001b[43m(\u001b[49m\u001b[38;5;28;43mcls\u001b[39;49m\u001b[43m)\u001b[49m\u001b[43m \u001b[49m\u001b[38;5;241;43m-\u001b[39;49m\u001b[38;5;241;43m>\u001b[39;49m\u001b[43m \u001b[49m\u001b[43mExtendedTypeGroup\u001b[49m\u001b[43m:\u001b[49m\n\u001b[0;32m    555\u001b[0m \u001b[43m        \u001b[49m\u001b[38;5;28;43;01mreturn\u001b[39;49;00m\u001b[43m \u001b[49m\u001b[43mExtendedTypeGroup\u001b[49m\u001b[43m(\u001b[49m\u001b[43mOptionalTypeGroup\u001b[49m\u001b[43m(\u001b[49m\u001b[43mTypeNode\u001b[49m\u001b[43m(\u001b[49m\u001b[43mINode\u001b[49m\u001b[43m)\u001b[49m\u001b[43m)\u001b[49m\u001b[43m)\u001b[49m\n",
      "File \u001b[1;32m<frozen abc>:106\u001b[0m, in \u001b[0;36m__new__\u001b[1;34m(mcls, name, bases, namespace, **kwargs)\u001b[0m\n",
      "\u001b[1;31mTypeError\u001b[0m: Cannot create a consistent method resolution\norder (MRO) for bases INode, Generic, IInstantiable"
     ]
    }
   ],
   "source": [
    "from env.core import FunctionExpr, Param\n",
    "from impl.goal_env import GoalEnv\n",
    "from impl.node_types import HaveDefinition, AndNode, OrNode, IntBooleanNode\n",
    "\n",
    "params = (Param.from_int(1), Param.from_int(2), Param.from_int(3))\n",
    "p1, p2, p3 = params\n",
    "goal = HaveDefinition(\n",
    "    FunctionExpr.with_child(\n",
    "        OrNode(\n",
    "            AndNode(p1, p2, IntBooleanNode(1)),\n",
    "            AndNode(p2, p3),\n",
    "        ),\n",
    "    )\n",
    ")\n",
    "\n",
    "env = GoalEnv(goal)\n",
    "\n",
    "env.to_symbolic()"
   ]
  }
 ],
 "metadata": {
  "kernelspec": {
   "display_name": "dev",
   "language": "python",
   "name": "python3"
  },
  "language_info": {
   "codemirror_mode": {
    "name": "ipython",
    "version": 3
   },
   "file_extension": ".py",
   "mimetype": "text/x-python",
   "name": "python",
   "nbconvert_exporter": "python",
   "pygments_lexer": "ipython3",
   "version": "3.11.5"
  }
 },
 "nbformat": 4,
 "nbformat_minor": 2
}
