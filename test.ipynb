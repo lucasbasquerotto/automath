{
 "cells": [
  {
   "cell_type": "code",
   "execution_count": null,
   "metadata": {},
   "outputs": [],
   "source": [
    "from env.core import FunctionExpr, Param\n",
    "from env.full_state import FullState\n",
    "from env.meta_env import MetaInfo\n",
    "from env.goal_env import GoalEnv\n",
    "from env.node_types import HaveDefinition, AndNode, OrNode, IntBooleanNode\n",
    "\n",
    "params = (Param.from_int(1), Param.from_int(2), Param.from_int(3))\n",
    "p1, p2, p3 = params\n",
    "goal = HaveDefinition(\n",
    "    FunctionExpr.with_child(\n",
    "        OrNode(\n",
    "            AndNode(p1, p2, IntBooleanNode(1)),\n",
    "            AndNode(p2, p3),\n",
    "        ),\n",
    "    )\n",
    ")\n",
    "\n",
    "env = GoalEnv(goal)\n",
    "node_types = env.full_state.node_types()\n",
    "print('Amount of node types:', len(node_types))"
   ]
  },
  {
   "cell_type": "code",
   "execution_count": null,
   "metadata": {},
   "outputs": [],
   "source": [
    "selected_types = env.full_state.nested_args((FullState.idx_meta, MetaInfo.idx_all_types)).apply()\n",
    "GoalEnv.symbolic(selected_types, node_types)"
   ]
  },
  {
   "cell_type": "code",
   "execution_count": 3,
   "metadata": {},
   "outputs": [],
   "source": [
    "selected_goal = env.full_state.nested_args((FullState.idx_meta, MetaInfo.idx_goal)).apply()\n",
    "assert selected_goal == goal"
   ]
  },
  {
   "cell_type": "code",
   "execution_count": null,
   "metadata": {},
   "outputs": [],
   "source": [
    "GoalEnv.symbolic(selected_goal, node_types)"
   ]
  },
  {
   "cell_type": "code",
   "execution_count": null,
   "metadata": {},
   "outputs": [],
   "source": [
    "GoalEnv.data_array(selected_goal, node_types)"
   ]
  },
  {
   "cell_type": "code",
   "execution_count": null,
   "metadata": {},
   "outputs": [],
   "source": [
    "env.to_symbolic_current_state()"
   ]
  },
  {
   "cell_type": "code",
   "execution_count": null,
   "metadata": {},
   "outputs": [],
   "source": [
    "env.to_data_array_current_state()"
   ]
  },
  {
   "cell_type": "code",
   "execution_count": null,
   "metadata": {},
   "outputs": [],
   "source": [
    "len(env.to_data_array())"
   ]
  },
  {
   "cell_type": "code",
   "execution_count": 9,
   "metadata": {},
   "outputs": [],
   "source": [
    "details = env.full_state.nested_args((FullState.idx_meta, MetaInfo.idx_all_types_details)).apply()\n",
    "# GoalEnv.symbolic(details, node_types)"
   ]
  },
  {
   "cell_type": "code",
   "execution_count": null,
   "metadata": {},
   "outputs": [],
   "source": [
    "selected = details.nested_arg(102).apply()\n",
    "GoalEnv.symbolic(selected, node_types)"
   ]
  },
  {
   "cell_type": "code",
   "execution_count": 11,
   "metadata": {},
   "outputs": [],
   "source": [
    "# import sympy\n",
    "# sympy.latex(GoalEnv.symbolic(selected, node_types))"
   ]
  },
  {
   "cell_type": "code",
   "execution_count": null,
   "metadata": {},
   "outputs": [],
   "source": [
    "GoalEnv.data_array(selected, node_types)"
   ]
  },
  {
   "cell_type": "code",
   "execution_count": 13,
   "metadata": {},
   "outputs": [],
   "source": [
    "# env.to_symbolic()"
   ]
  },
  {
   "cell_type": "code",
   "execution_count": 14,
   "metadata": {},
   "outputs": [],
   "source": [
    "env.full_state.validate()"
   ]
  },
  {
   "cell_type": "code",
   "execution_count": null,
   "metadata": {},
   "outputs": [],
   "source": [
    "from env.action_impl import CreateScratch\n",
    "action = CreateScratch.create()\n",
    "env.step(action)\n",
    "env.to_symbolic_current_state()"
   ]
  },
  {
   "cell_type": "code",
   "execution_count": null,
   "metadata": {},
   "outputs": [],
   "source": [
    "GoalEnv.symbolic(env.full_state.history.apply(), node_types)"
   ]
  },
  {
   "cell_type": "code",
   "execution_count": null,
   "metadata": {},
   "outputs": [],
   "source": [
    "selected_types = env.full_state.nested_args((FullState.idx_meta, MetaInfo.idx_from_int_group)).apply()\n",
    "GoalEnv.symbolic(selected_types, node_types)"
   ]
  },
  {
   "cell_type": "code",
   "execution_count": null,
   "metadata": {},
   "outputs": [],
   "source": [
    "from env.action_impl import DefineScratchFromInt\n",
    "action = DefineScratchFromInt.from_raw(1, 116, 3)\n",
    "env.step(action)\n",
    "env.to_symbolic_current_state()"
   ]
  },
  {
   "cell_type": "code",
   "execution_count": null,
   "metadata": {},
   "outputs": [],
   "source": [
    "GoalEnv.symbolic(env.full_state.history.apply(), node_types)"
   ]
  },
  {
   "cell_type": "code",
   "execution_count": null,
   "metadata": {},
   "outputs": [],
   "source": [
    "from env.action_impl import DefineScratchFromInt\n",
    "action = DefineScratchFromInt.from_raw(1, 26, 3)\n",
    "env.step(action)\n",
    "env.to_symbolic_current_state()"
   ]
  }
 ],
 "metadata": {
  "kernelspec": {
   "display_name": "dev",
   "language": "python",
   "name": "python3"
  },
  "language_info": {
   "codemirror_mode": {
    "name": "ipython",
    "version": 3
   },
   "file_extension": ".py",
   "mimetype": "text/x-python",
   "name": "python",
   "nbconvert_exporter": "python",
   "pygments_lexer": "ipython3",
   "version": "3.11.5"
  }
 },
 "nbformat": 4,
 "nbformat_minor": 2
}
