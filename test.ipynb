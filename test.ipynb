{
 "cells": [
  {
   "cell_type": "code",
   "execution_count": null,
   "metadata": {},
   "outputs": [],
   "source": [
    "from env.core import FunctionExpr, Param, AndNode, OrNode, IntBooleanNode\n",
    "from env.full_state import FullState\n",
    "from env.meta_env import MetaInfo\n",
    "from env.goal_env import GoalEnv\n",
    "from env.node_types import HaveScratch\n",
    "\n",
    "params = (Param.from_int(1), Param.from_int(2), Param.from_int(3))\n",
    "p1, p2, p3 = params\n",
    "goal = HaveScratch.with_goal(\n",
    "    FunctionExpr.with_child(\n",
    "        OrNode(\n",
    "            AndNode(p1, p2, IntBooleanNode(1)),\n",
    "            AndNode(p2, p3),\n",
    "        ),\n",
    "    )\n",
    ")\n",
    "\n",
    "env = GoalEnv(goal)\n",
    "node_types = env.full_state.node_types()\n",
    "print('Amount of node types:', len(node_types))"
   ]
  },
  {
   "cell_type": "code",
   "execution_count": 2,
   "metadata": {},
   "outputs": [],
   "source": [
    "# selected_types = env.full_state.nested_args((FullState.idx_meta, MetaInfo.idx_all_types)).apply()\n",
    "# GoalEnv.symbolic(selected_types, node_types)"
   ]
  },
  {
   "cell_type": "code",
   "execution_count": 3,
   "metadata": {},
   "outputs": [],
   "source": [
    "selected_goal = env.full_state.nested_args((FullState.idx_meta, MetaInfo.idx_goal)).apply()\n",
    "assert selected_goal == goal"
   ]
  },
  {
   "cell_type": "code",
   "execution_count": null,
   "metadata": {},
   "outputs": [],
   "source": [
    "GoalEnv.symbolic(selected_goal, node_types)"
   ]
  },
  {
   "cell_type": "code",
   "execution_count": null,
   "metadata": {},
   "outputs": [],
   "source": [
    "GoalEnv.data_array(selected_goal, node_types)"
   ]
  },
  {
   "cell_type": "code",
   "execution_count": null,
   "metadata": {},
   "outputs": [],
   "source": [
    "env.to_symbolic_current_state()"
   ]
  },
  {
   "cell_type": "code",
   "execution_count": null,
   "metadata": {},
   "outputs": [],
   "source": [
    "env.to_data_array_current_state()"
   ]
  },
  {
   "cell_type": "code",
   "execution_count": null,
   "metadata": {},
   "outputs": [],
   "source": [
    "len(env.to_data_array())"
   ]
  },
  {
   "cell_type": "code",
   "execution_count": 9,
   "metadata": {},
   "outputs": [],
   "source": [
    "# details = env.full_state.nested_args((FullState.idx_meta, MetaInfo.idx_all_types_details)).apply()\n",
    "# selected = details.nested_arg(102).apply()\n",
    "# GoalEnv.symbolic(selected, node_types)"
   ]
  },
  {
   "cell_type": "code",
   "execution_count": 10,
   "metadata": {},
   "outputs": [],
   "source": [
    "# import sympy\n",
    "# sympy.latex(GoalEnv.symbolic(selected, node_types))"
   ]
  },
  {
   "cell_type": "code",
   "execution_count": 11,
   "metadata": {},
   "outputs": [],
   "source": [
    "# GoalEnv.data_array(selected, node_types)"
   ]
  },
  {
   "cell_type": "code",
   "execution_count": 12,
   "metadata": {},
   "outputs": [],
   "source": [
    "# env.to_symbolic()"
   ]
  },
  {
   "cell_type": "code",
   "execution_count": 13,
   "metadata": {},
   "outputs": [],
   "source": [
    "env.full_state.validate()"
   ]
  },
  {
   "cell_type": "code",
   "execution_count": null,
   "metadata": {},
   "outputs": [],
   "source": [
    "from env.full_state import HistoryNode\n",
    "from env.state import State\n",
    "def get_current_state(env: GoalEnv):\n",
    "    return env.full_state.nested_args((FullState.idx_current, HistoryNode.idx_state)).apply().cast(State)\n",
    "current_state = get_current_state(env)\n",
    "GoalEnv.symbolic(current_state, node_types)"
   ]
  },
  {
   "cell_type": "code",
   "execution_count": 15,
   "metadata": {},
   "outputs": [],
   "source": [
    "from env.state import State\n",
    "assert current_state == State.create()"
   ]
  },
  {
   "cell_type": "code",
   "execution_count": null,
   "metadata": {},
   "outputs": [],
   "source": [
    "from env.action_impl import CreateScratch\n",
    "action = CreateScratch.create()\n",
    "env.step(action)\n",
    "current_state = get_current_state(env)\n",
    "GoalEnv.symbolic(current_state, node_types)"
   ]
  },
  {
   "cell_type": "code",
   "execution_count": 17,
   "metadata": {},
   "outputs": [],
   "source": [
    "assert current_state == State.from_raw(\n",
    "    scratchs=tuple([None]),\n",
    "    args_groups=tuple(),\n",
    ")\n",
    "assert env.full_state.goal_achieved() is False"
   ]
  },
  {
   "cell_type": "code",
   "execution_count": null,
   "metadata": {},
   "outputs": [],
   "source": [
    "from env.full_state import HistoryGroupNode\n",
    "from env.core import Optional\n",
    "def get_last_history_meta(env: GoalEnv):\n",
    "    history = env.full_state.history.apply().cast(HistoryGroupNode)\n",
    "    last = history.as_tuple[-1]\n",
    "    return last.meta_data.apply().nested_arg(Optional.idx_value).apply()\n",
    "last_history_meta = get_last_history_meta(env)\n",
    "GoalEnv.symbolic(last_history_meta, node_types)"
   ]
  },
  {
   "cell_type": "code",
   "execution_count": 19,
   "metadata": {},
   "outputs": [],
   "source": [
    "from env.action import ActionData\n",
    "from env.action_impl import CreateScratchOutput\n",
    "from env.state import StateScratchIndex\n",
    "\n",
    "assert last_history_meta == ActionData.from_args(\n",
    "    action=Optional(CreateScratch(Optional())),\n",
    "    output=Optional(CreateScratchOutput(\n",
    "        StateScratchIndex(1),\n",
    "        Optional(),\n",
    "    )),\n",
    "    exception=Optional(),\n",
    ")"
   ]
  },
  {
   "cell_type": "code",
   "execution_count": 20,
   "metadata": {},
   "outputs": [],
   "source": [
    "# GoalEnv.symbolic(selected, node_types)"
   ]
  },
  {
   "cell_type": "code",
   "execution_count": 21,
   "metadata": {},
   "outputs": [],
   "source": [
    "# GoalEnv.symbolic(env.full_state.history.apply(), node_types)"
   ]
  },
  {
   "cell_type": "code",
   "execution_count": 22,
   "metadata": {},
   "outputs": [],
   "source": [
    "# selected_types = env.full_state.nested_args((FullState.idx_meta, MetaInfo.idx_from_int_group)).apply()\n",
    "# GoalEnv.symbolic(selected_types, node_types)"
   ]
  },
  {
   "cell_type": "code",
   "execution_count": null,
   "metadata": {},
   "outputs": [],
   "source": [
    "from env.action_impl import DefineScratchFromInt\n",
    "# should return an exception (index won't return element)\n",
    "action = DefineScratchFromInt.from_raw(1, len(node_types)+1, 3)\n",
    "env.step(action)\n",
    "current_state = get_current_state(env)\n",
    "GoalEnv.symbolic(current_state, node_types)"
   ]
  },
  {
   "cell_type": "code",
   "execution_count": 24,
   "metadata": {},
   "outputs": [],
   "source": [
    "assert current_state == State.from_raw(\n",
    "    scratchs=tuple([None]),\n",
    "    args_groups=tuple(),\n",
    ")\n",
    "assert env.full_state.goal_achieved() is False"
   ]
  },
  {
   "cell_type": "code",
   "execution_count": null,
   "metadata": {},
   "outputs": [],
   "source": [
    "last_history_meta = get_last_history_meta(env)\n",
    "GoalEnv.symbolic(last_history_meta, node_types)"
   ]
  },
  {
   "cell_type": "code",
   "execution_count": 26,
   "metadata": {},
   "outputs": [],
   "source": [
    "from env.action import IAction, ActionData\n",
    "from env.core import BooleanExceptionInfo, IsEmpty\n",
    "\n",
    "def get_empty_exception(action: IAction):\n",
    "    return ActionData.from_args(\n",
    "        action=Optional(action),\n",
    "        output=Optional(),\n",
    "        exception=Optional(BooleanExceptionInfo(IsEmpty(Optional()))),\n",
    "    )\n",
    "\n",
    "assert last_history_meta == get_empty_exception(action)"
   ]
  },
  {
   "cell_type": "code",
   "execution_count": null,
   "metadata": {},
   "outputs": [],
   "source": [
    "from env.action_impl import DefineScratchFromIntIndex\n",
    "from env.core import INode\n",
    "from env.meta_env import SubtypeOuterGroup, GeneralTypeGroup\n",
    "from env.full_state import MetaAllTypesTypeIndex\n",
    "\n",
    "def get_info_type_index(node_type: type[INode], env: GoalEnv, node_types: tuple[type[INode], ...]):\n",
    "    index_type_idx = node_types.index(MetaAllTypesTypeIndex) + 1\n",
    "    type_node = node_types[index_type_idx-1].as_type()\n",
    "    selected_types = env.full_state.meta.apply().nested_args((\n",
    "        MetaInfo.idx_full_state_int_index_group,\n",
    "        SubtypeOuterGroup.idx_subtypes,\n",
    "    )).apply().cast(GeneralTypeGroup)\n",
    "    meta_idx = selected_types.as_tuple.index(type_node) + 1\n",
    "    node_idx = node_types.index(node_type) + 1\n",
    "    return meta_idx, node_idx\n",
    "\n",
    "meta_idx, type_idx = get_info_type_index(AndNode, env, node_types)\n",
    "action = DefineScratchFromIntIndex.from_raw(1, meta_idx, type_idx)\n",
    "env.step(action)\n",
    "current_state = get_current_state(env)\n",
    "GoalEnv.symbolic(current_state, node_types)"
   ]
  },
  {
   "cell_type": "code",
   "execution_count": 28,
   "metadata": {},
   "outputs": [],
   "source": [
    "assert current_state == State.from_raw(\n",
    "    scratchs=tuple([AndNode.as_type()]),\n",
    "    args_groups=tuple(),\n",
    ")\n",
    "assert env.full_state.goal_achieved() is False"
   ]
  },
  {
   "cell_type": "code",
   "execution_count": null,
   "metadata": {},
   "outputs": [],
   "source": [
    "last_history_meta = get_last_history_meta(env)\n",
    "GoalEnv.symbolic(last_history_meta, node_types)"
   ]
  },
  {
   "cell_type": "code",
   "execution_count": 30,
   "metadata": {},
   "outputs": [],
   "source": [
    "from env.core import Integer\n",
    "from env.full_state import MetaFullStateIntIndexTypeIndex\n",
    "from env.action_impl import DefineScratchOutput\n",
    "assert last_history_meta == ActionData.from_args(\n",
    "    action=Optional(DefineScratchFromIntIndex(\n",
    "        StateScratchIndex(1),\n",
    "        MetaFullStateIntIndexTypeIndex(meta_idx),\n",
    "        Integer(type_idx)\n",
    "    )),\n",
    "    output=Optional(DefineScratchOutput(\n",
    "        StateScratchIndex(1),\n",
    "        Optional(AndNode.as_type()),\n",
    "    )),\n",
    "    exception=Optional(),\n",
    ")"
   ]
  },
  {
   "cell_type": "code",
   "execution_count": 31,
   "metadata": {},
   "outputs": [],
   "source": [
    "action = CreateScratch.create()\n",
    "env.step(action)\n",
    "current_state = get_current_state(env)\n",
    "last_history_meta = get_last_history_meta(env)"
   ]
  },
  {
   "cell_type": "code",
   "execution_count": 32,
   "metadata": {},
   "outputs": [],
   "source": [
    "assert current_state == State.from_raw(\n",
    "    scratchs=tuple([AndNode.as_type(), None]),\n",
    "    args_groups=tuple(),\n",
    ")\n",
    "assert last_history_meta == ActionData.from_args(\n",
    "    action=Optional(CreateScratch(Optional())),\n",
    "    output=Optional(CreateScratchOutput(\n",
    "        StateScratchIndex(2),\n",
    "        Optional(),\n",
    "    )),\n",
    "    exception=Optional(),\n",
    ")\n",
    "assert env.full_state.goal_achieved() is False"
   ]
  },
  {
   "cell_type": "code",
   "execution_count": 33,
   "metadata": {},
   "outputs": [],
   "source": [
    "meta_idx, type_idx = get_info_type_index(OrNode, env, node_types)\n",
    "action = DefineScratchFromIntIndex.from_raw(2, meta_idx, type_idx)\n",
    "env.step(action)\n",
    "current_state = get_current_state(env)\n",
    "last_history_meta = get_last_history_meta(env)"
   ]
  },
  {
   "cell_type": "code",
   "execution_count": 34,
   "metadata": {},
   "outputs": [],
   "source": [
    "assert current_state == State.from_raw(\n",
    "    scratchs=tuple([AndNode.as_type(), OrNode.as_type()]),\n",
    "    args_groups=tuple(),\n",
    ")\n",
    "assert last_history_meta == ActionData.from_args(\n",
    "    action=Optional(DefineScratchFromIntIndex(\n",
    "        StateScratchIndex(2),\n",
    "        MetaFullStateIntIndexTypeIndex(meta_idx),\n",
    "        Integer(type_idx)\n",
    "    )),\n",
    "    output=Optional(DefineScratchOutput(\n",
    "        StateScratchIndex(2),\n",
    "        Optional(OrNode.as_type()),\n",
    "    )),\n",
    "    exception=Optional(),\n",
    ")\n",
    "assert env.full_state.goal_achieved() is False"
   ]
  },
  {
   "cell_type": "code",
   "execution_count": 35,
   "metadata": {},
   "outputs": [],
   "source": [
    "action = CreateScratch.create()\n",
    "env.step(action)\n",
    "current_state = get_current_state(env)\n",
    "last_history_meta = get_last_history_meta(env)"
   ]
  },
  {
   "cell_type": "code",
   "execution_count": 36,
   "metadata": {},
   "outputs": [],
   "source": [
    "assert current_state == State.from_raw(\n",
    "    scratchs=tuple([AndNode.as_type(), OrNode.as_type(), None]),\n",
    "    args_groups=tuple(),\n",
    ")\n",
    "assert last_history_meta == ActionData.from_args(\n",
    "    action=Optional(CreateScratch(Optional())),\n",
    "    output=Optional(CreateScratchOutput(\n",
    "        StateScratchIndex(3),\n",
    "        Optional(),\n",
    "    )),\n",
    "    exception=Optional(),\n",
    ")\n",
    "assert env.full_state.goal_achieved() is False"
   ]
  },
  {
   "cell_type": "code",
   "execution_count": null,
   "metadata": {},
   "outputs": [],
   "source": [
    "from env.action_impl import CreateArgsGroup\n",
    "action = CreateArgsGroup.from_raw(3, 0, 0)\n",
    "env.step(action)\n",
    "current_state = get_current_state(env)\n",
    "last_history_meta = get_last_history_meta(env)\n",
    "GoalEnv.symbolic(current_state, node_types)"
   ]
  },
  {
   "cell_type": "code",
   "execution_count": 38,
   "metadata": {},
   "outputs": [],
   "source": [
    "from env.core import (\n",
    "    ExtendedTypeGroup,\n",
    "    RestTypeGroup,\n",
    "    UnknownType,\n",
    "    LaxOpaqueScope,\n",
    "    OptionalValueGroup,\n",
    "    ScopeId,\n",
    ")\n",
    "from env.state import PartialArgsGroup, StateArgsGroupIndex\n",
    "from env.action_impl import CreateArgsGroupOutput\n",
    "\n",
    "arg_group = PartialArgsGroup(\n",
    "    ExtendedTypeGroup(RestTypeGroup(UnknownType())),\n",
    "    LaxOpaqueScope(\n",
    "        ScopeId(1),\n",
    "        OptionalValueGroup(\n",
    "            Optional(),\n",
    "            Optional(),\n",
    "            Optional(),\n",
    "        ),\n",
    "    )\n",
    ")\n",
    "\n",
    "assert current_state == State.from_raw(\n",
    "    scratchs=tuple([AndNode.as_type(), OrNode.as_type(), None]),\n",
    "    args_groups=tuple([arg_group]),\n",
    ")\n",
    "assert last_history_meta == ActionData.from_args(\n",
    "    action=Optional(CreateArgsGroup(\n",
    "        Integer(3),\n",
    "        Optional(),\n",
    "        Optional(),\n",
    "    )),\n",
    "    output=Optional(CreateArgsGroupOutput(\n",
    "        StateArgsGroupIndex(1),\n",
    "        arg_group,\n",
    "    )),\n",
    "    exception=Optional(),\n",
    ")\n",
    "assert env.full_state.goal_achieved() is False"
   ]
  },
  {
   "cell_type": "code",
   "execution_count": 39,
   "metadata": {},
   "outputs": [],
   "source": [
    "from env.action_impl import DefineScratchFromInt\n",
    "\n",
    "def get_from_int_type_index(node_type: type[INode], env: GoalEnv):\n",
    "    selected_types = env.full_state.meta.apply().nested_args((\n",
    "        MetaInfo.idx_from_int_group,\n",
    "        SubtypeOuterGroup.idx_subtypes,\n",
    "    )).apply().cast(GeneralTypeGroup)\n",
    "    meta_idx = selected_types.as_tuple.index(node_type.as_type()) + 1\n",
    "    return meta_idx\n",
    "\n",
    "meta_idx = get_from_int_type_index(Param, env)\n",
    "action = DefineScratchFromInt.from_raw(3, meta_idx, 1)\n",
    "env.step(action)\n",
    "current_state = get_current_state(env)\n",
    "last_history_meta = get_last_history_meta(env)"
   ]
  },
  {
   "cell_type": "code",
   "execution_count": 40,
   "metadata": {},
   "outputs": [],
   "source": [
    "from env.full_state import MetaFromIntTypeIndex\n",
    "assert current_state == State.from_raw(\n",
    "    scratchs=tuple([AndNode.as_type(), OrNode.as_type(), Param.from_int(1)]),\n",
    "    args_groups=tuple([arg_group]),\n",
    ")\n",
    "assert last_history_meta == ActionData.from_args(\n",
    "    action=Optional(DefineScratchFromInt(\n",
    "        StateScratchIndex(3),\n",
    "        MetaFromIntTypeIndex(meta_idx),\n",
    "        Integer(1),\n",
    "    )),\n",
    "    output=Optional(DefineScratchOutput(\n",
    "        StateScratchIndex(3),\n",
    "        Optional(Param.from_int(1)),\n",
    "    )),\n",
    "    exception=Optional(),\n",
    ")\n",
    "assert env.full_state.goal_achieved() is False"
   ]
  },
  {
   "cell_type": "code",
   "execution_count": 41,
   "metadata": {},
   "outputs": [],
   "source": [
    "from env.action_impl import DefineArgsGroup\n",
    "action = DefineArgsGroup.from_raw(1, 1, 3)\n",
    "env.step(action)\n",
    "current_state = get_current_state(env)\n",
    "last_history_meta = get_last_history_meta(env)"
   ]
  },
  {
   "cell_type": "code",
   "execution_count": 42,
   "metadata": {},
   "outputs": [],
   "source": [
    "from env.core import NodeArgIndex\n",
    "from env.state import OptionalContext\n",
    "from env.action_impl import DefineArgsGroupArgOutput\n",
    "\n",
    "arg_group = PartialArgsGroup(\n",
    "    ExtendedTypeGroup(RestTypeGroup(UnknownType())),\n",
    "    LaxOpaqueScope(\n",
    "        ScopeId(1),\n",
    "        OptionalValueGroup(\n",
    "            Optional(Param.from_int(1)),\n",
    "            Optional(),\n",
    "            Optional(),\n",
    "        ),\n",
    "    )\n",
    ")\n",
    "\n",
    "assert current_state == State.from_raw(\n",
    "    scratchs=tuple([AndNode.as_type(), OrNode.as_type(), Param.from_int(1)]),\n",
    "    args_groups=tuple([arg_group]),\n",
    ")\n",
    "assert last_history_meta == ActionData.from_args(\n",
    "    action=Optional(DefineArgsGroup(\n",
    "        StateArgsGroupIndex(1),\n",
    "        NodeArgIndex(1),\n",
    "        StateScratchIndex(3),\n",
    "    )),\n",
    "    output=Optional(DefineArgsGroupArgOutput(\n",
    "        StateArgsGroupIndex(1),\n",
    "        NodeArgIndex(1),\n",
    "        OptionalContext(Param.from_int(1)),\n",
    "    )),\n",
    "    exception=Optional(),\n",
    ")\n",
    "assert env.full_state.goal_achieved() is False"
   ]
  },
  {
   "cell_type": "code",
   "execution_count": 43,
   "metadata": {},
   "outputs": [],
   "source": [
    "meta_idx = get_from_int_type_index(Param, env)\n",
    "action = DefineScratchFromInt.from_raw(3, meta_idx, 2)\n",
    "env.step(action)\n",
    "current_state = get_current_state(env)\n",
    "last_history_meta = get_last_history_meta(env)"
   ]
  },
  {
   "cell_type": "code",
   "execution_count": 44,
   "metadata": {},
   "outputs": [],
   "source": [
    "from env.full_state import MetaFromIntTypeIndex\n",
    "assert current_state == State.from_raw(\n",
    "    scratchs=tuple([AndNode.as_type(), OrNode.as_type(), Param.from_int(2)]),\n",
    "    args_groups=tuple([arg_group]),\n",
    ")\n",
    "assert last_history_meta == ActionData.from_args(\n",
    "    action=Optional(DefineScratchFromInt(\n",
    "        StateScratchIndex(3),\n",
    "        MetaFromIntTypeIndex(meta_idx),\n",
    "        Integer(2),\n",
    "    )),\n",
    "    output=Optional(DefineScratchOutput(\n",
    "        StateScratchIndex(3),\n",
    "        Optional(Param.from_int(2)),\n",
    "    )),\n",
    "    exception=Optional(),\n",
    ")\n",
    "assert env.full_state.goal_achieved() is False"
   ]
  },
  {
   "cell_type": "code",
   "execution_count": 45,
   "metadata": {},
   "outputs": [],
   "source": [
    "from env.action_impl import DefineArgsGroup\n",
    "action = DefineArgsGroup.from_raw(1, 2, 3)\n",
    "env.step(action)\n",
    "current_state = get_current_state(env)\n",
    "last_history_meta = get_last_history_meta(env)"
   ]
  },
  {
   "cell_type": "code",
   "execution_count": 46,
   "metadata": {},
   "outputs": [],
   "source": [
    "from env.core import NodeArgIndex\n",
    "from env.state import OptionalContext\n",
    "from env.action_impl import DefineArgsGroupArgOutput\n",
    "\n",
    "arg_group = PartialArgsGroup(\n",
    "    ExtendedTypeGroup(RestTypeGroup(UnknownType())),\n",
    "    LaxOpaqueScope(\n",
    "        ScopeId(1),\n",
    "        OptionalValueGroup(\n",
    "            Optional(Param.from_int(1)),\n",
    "            Optional(Param.from_int(2)),\n",
    "            Optional(),\n",
    "        ),\n",
    "    )\n",
    ")\n",
    "\n",
    "assert current_state == State.from_raw(\n",
    "    scratchs=tuple([AndNode.as_type(), OrNode.as_type(), Param.from_int(2)]),\n",
    "    args_groups=tuple([arg_group]),\n",
    ")\n",
    "assert last_history_meta == ActionData.from_args(\n",
    "    action=Optional(DefineArgsGroup(\n",
    "        StateArgsGroupIndex(1),\n",
    "        NodeArgIndex(2),\n",
    "        StateScratchIndex(3),\n",
    "    )),\n",
    "    output=Optional(DefineArgsGroupArgOutput(\n",
    "        StateArgsGroupIndex(1),\n",
    "        NodeArgIndex(2),\n",
    "        OptionalContext(Param.from_int(2)),\n",
    "    )),\n",
    "    exception=Optional(),\n",
    ")\n",
    "assert env.full_state.goal_achieved() is False"
   ]
  },
  {
   "cell_type": "code",
   "execution_count": 47,
   "metadata": {},
   "outputs": [],
   "source": [
    "meta_idx = get_from_int_type_index(IntBooleanNode, env)\n",
    "action = DefineScratchFromInt.from_raw(3, meta_idx, 1)\n",
    "env.step(action)\n",
    "current_state = get_current_state(env)\n",
    "last_history_meta = get_last_history_meta(env)"
   ]
  },
  {
   "cell_type": "code",
   "execution_count": 48,
   "metadata": {},
   "outputs": [],
   "source": [
    "from env.full_state import MetaFromIntTypeIndex\n",
    "assert current_state == State.from_raw(\n",
    "    scratchs=tuple([AndNode.as_type(), OrNode.as_type(), IntBooleanNode.from_int(1)]),\n",
    "    args_groups=tuple([arg_group]),\n",
    ")\n",
    "assert last_history_meta == ActionData.from_args(\n",
    "    action=Optional(DefineScratchFromInt(\n",
    "        StateScratchIndex(3),\n",
    "        MetaFromIntTypeIndex(meta_idx),\n",
    "        Integer(1),\n",
    "    )),\n",
    "    output=Optional(DefineScratchOutput(\n",
    "        StateScratchIndex(3),\n",
    "        Optional(IntBooleanNode.from_int(1)),\n",
    "    )),\n",
    "    exception=Optional(),\n",
    ")\n",
    "assert env.full_state.goal_achieved() is False"
   ]
  },
  {
   "cell_type": "code",
   "execution_count": 49,
   "metadata": {},
   "outputs": [],
   "source": [
    "from env.action_impl import DefineArgsGroup\n",
    "action = DefineArgsGroup.from_raw(1, 3, 3)\n",
    "env.step(action)\n",
    "current_state = get_current_state(env)\n",
    "last_history_meta = get_last_history_meta(env)"
   ]
  },
  {
   "cell_type": "code",
   "execution_count": 50,
   "metadata": {},
   "outputs": [],
   "source": [
    "from env.core import NodeArgIndex\n",
    "from env.state import OptionalContext\n",
    "from env.action_impl import DefineArgsGroupArgOutput\n",
    "\n",
    "arg_group = PartialArgsGroup(\n",
    "    ExtendedTypeGroup(RestTypeGroup(UnknownType())),\n",
    "    LaxOpaqueScope(\n",
    "        ScopeId(1),\n",
    "        OptionalValueGroup(\n",
    "            Optional(Param.from_int(1)),\n",
    "            Optional(Param.from_int(2)),\n",
    "            Optional(IntBooleanNode.from_int(1)),\n",
    "        ),\n",
    "    )\n",
    ")\n",
    "\n",
    "scratchs = tuple([AndNode.as_type(), OrNode.as_type(), IntBooleanNode.from_int(1)])\n",
    "args_groups = tuple([arg_group])\n",
    "\n",
    "assert current_state == State.from_raw(\n",
    "    scratchs=scratchs,\n",
    "    args_groups=args_groups,\n",
    ")\n",
    "assert last_history_meta == ActionData.from_args(\n",
    "    action=Optional(DefineArgsGroup(\n",
    "        StateArgsGroupIndex(1),\n",
    "        NodeArgIndex(3),\n",
    "        StateScratchIndex(3),\n",
    "    )),\n",
    "    output=Optional(DefineArgsGroupArgOutput(\n",
    "        StateArgsGroupIndex(1),\n",
    "        NodeArgIndex(3),\n",
    "        OptionalContext(IntBooleanNode.from_int(1)),\n",
    "    )),\n",
    "    exception=Optional(),\n",
    ")\n",
    "assert env.full_state.goal_achieved() is False"
   ]
  },
  {
   "cell_type": "code",
   "execution_count": 51,
   "metadata": {},
   "outputs": [],
   "source": [
    "from env.action_impl import CreateArgsGroup\n",
    "action = CreateArgsGroup.from_raw(2, 0, 0)\n",
    "env.step(action)\n",
    "current_state = get_current_state(env)\n",
    "last_history_meta = get_last_history_meta(env)"
   ]
  },
  {
   "cell_type": "code",
   "execution_count": 52,
   "metadata": {},
   "outputs": [],
   "source": [
    "arg_group_2 = PartialArgsGroup(\n",
    "    ExtendedTypeGroup(RestTypeGroup(UnknownType())),\n",
    "    LaxOpaqueScope(\n",
    "        ScopeId(1),\n",
    "        OptionalValueGroup(\n",
    "            Optional(),\n",
    "            Optional(),\n",
    "        ),\n",
    "    )\n",
    ")\n",
    "\n",
    "args_groups = tuple([arg_group, arg_group_2])\n",
    "\n",
    "assert current_state == State.from_raw(\n",
    "    scratchs=scratchs,\n",
    "    args_groups=args_groups,\n",
    ")\n",
    "assert last_history_meta == ActionData.from_args(\n",
    "    action=Optional(CreateArgsGroup(\n",
    "        Integer(2),\n",
    "        Optional(),\n",
    "        Optional(),\n",
    "    )),\n",
    "    output=Optional(CreateArgsGroupOutput(\n",
    "        StateArgsGroupIndex(2),\n",
    "        arg_group_2,\n",
    "    )),\n",
    "    exception=Optional(),\n",
    ")\n",
    "assert env.full_state.goal_achieved() is False"
   ]
  },
  {
   "cell_type": "code",
   "execution_count": 53,
   "metadata": {},
   "outputs": [],
   "source": [
    "meta_idx = get_from_int_type_index(Param, env)\n",
    "action = DefineScratchFromInt.from_raw(3, meta_idx, 2)\n",
    "env.step(action)\n",
    "current_state = get_current_state(env)\n",
    "last_history_meta = get_last_history_meta(env)"
   ]
  },
  {
   "cell_type": "code",
   "execution_count": 54,
   "metadata": {},
   "outputs": [],
   "source": [
    "scratchs = tuple([AndNode.as_type(), OrNode.as_type(), Param.from_int(2)])\n",
    "\n",
    "assert current_state == State.from_raw(\n",
    "    scratchs=scratchs,\n",
    "    args_groups=args_groups,\n",
    ")\n",
    "assert last_history_meta == ActionData.from_args(\n",
    "    action=Optional(DefineScratchFromInt(\n",
    "        StateScratchIndex(3),\n",
    "        MetaFromIntTypeIndex(meta_idx),\n",
    "        Integer(2),\n",
    "    )),\n",
    "    output=Optional(DefineScratchOutput(\n",
    "        StateScratchIndex(3),\n",
    "        Optional(Param.from_int(2)),\n",
    "    )),\n",
    "    exception=Optional(),\n",
    ")\n",
    "assert env.full_state.goal_achieved() is False"
   ]
  },
  {
   "cell_type": "code",
   "execution_count": 55,
   "metadata": {},
   "outputs": [],
   "source": [
    "from env.action_impl import DefineArgsGroup\n",
    "action = DefineArgsGroup.from_raw(2, 1, 3)\n",
    "env.step(action)\n",
    "current_state = get_current_state(env)\n",
    "last_history_meta = get_last_history_meta(env)"
   ]
  },
  {
   "cell_type": "code",
   "execution_count": 56,
   "metadata": {},
   "outputs": [],
   "source": [
    "arg_group_2 = PartialArgsGroup(\n",
    "    ExtendedTypeGroup(RestTypeGroup(UnknownType())),\n",
    "    LaxOpaqueScope(\n",
    "        ScopeId(1),\n",
    "        OptionalValueGroup(\n",
    "            Optional(Param.from_int(2)),\n",
    "            Optional(),\n",
    "        ),\n",
    "    )\n",
    ")\n",
    "\n",
    "args_groups = tuple([arg_group, arg_group_2])\n",
    "\n",
    "assert current_state == State.from_raw(\n",
    "    scratchs=scratchs,\n",
    "    args_groups=args_groups,\n",
    ")\n",
    "assert last_history_meta == ActionData.from_args(\n",
    "    action=Optional(DefineArgsGroup(\n",
    "        StateArgsGroupIndex(2),\n",
    "        NodeArgIndex(1),\n",
    "        StateScratchIndex(3),\n",
    "    )),\n",
    "    output=Optional(DefineArgsGroupArgOutput(\n",
    "        StateArgsGroupIndex(2),\n",
    "        NodeArgIndex(1),\n",
    "        OptionalContext(Param.from_int(2)),\n",
    "    )),\n",
    "    exception=Optional(),\n",
    ")\n",
    "assert env.full_state.goal_achieved() is False"
   ]
  },
  {
   "cell_type": "code",
   "execution_count": 57,
   "metadata": {},
   "outputs": [],
   "source": [
    "meta_idx = get_from_int_type_index(Param, env)\n",
    "action = DefineScratchFromInt.from_raw(3, meta_idx, 3)\n",
    "env.step(action)\n",
    "current_state = get_current_state(env)\n",
    "last_history_meta = get_last_history_meta(env)"
   ]
  },
  {
   "cell_type": "code",
   "execution_count": 58,
   "metadata": {},
   "outputs": [],
   "source": [
    "scratchs = tuple([AndNode.as_type(), OrNode.as_type(), Param.from_int(3)])\n",
    "\n",
    "assert current_state == State.from_raw(\n",
    "    scratchs=scratchs,\n",
    "    args_groups=args_groups,\n",
    ")\n",
    "assert last_history_meta == ActionData.from_args(\n",
    "    action=Optional(DefineScratchFromInt(\n",
    "        StateScratchIndex(3),\n",
    "        MetaFromIntTypeIndex(meta_idx),\n",
    "        Integer(3),\n",
    "    )),\n",
    "    output=Optional(DefineScratchOutput(\n",
    "        StateScratchIndex(3),\n",
    "        Optional(Param.from_int(3)),\n",
    "    )),\n",
    "    exception=Optional(),\n",
    ")\n",
    "assert env.full_state.goal_achieved() is False"
   ]
  },
  {
   "cell_type": "code",
   "execution_count": 59,
   "metadata": {},
   "outputs": [],
   "source": [
    "from env.action_impl import DefineArgsGroup\n",
    "action = DefineArgsGroup.from_raw(2, 2, 3)\n",
    "env.step(action)\n",
    "current_state = get_current_state(env)\n",
    "last_history_meta = get_last_history_meta(env)"
   ]
  },
  {
   "cell_type": "code",
   "execution_count": 60,
   "metadata": {},
   "outputs": [],
   "source": [
    "arg_group_2 = PartialArgsGroup(\n",
    "    ExtendedTypeGroup(RestTypeGroup(UnknownType())),\n",
    "    LaxOpaqueScope(\n",
    "        ScopeId(1),\n",
    "        OptionalValueGroup(\n",
    "            Optional(Param.from_int(2)),\n",
    "            Optional(Param.from_int(3)),\n",
    "        ),\n",
    "    )\n",
    ")\n",
    "\n",
    "args_groups = tuple([arg_group, arg_group_2])\n",
    "\n",
    "assert current_state == State.from_raw(\n",
    "    scratchs=scratchs,\n",
    "    args_groups=args_groups,\n",
    ")\n",
    "assert last_history_meta == ActionData.from_args(\n",
    "    action=Optional(DefineArgsGroup(\n",
    "        StateArgsGroupIndex(2),\n",
    "        NodeArgIndex(2),\n",
    "        StateScratchIndex(3),\n",
    "    )),\n",
    "    output=Optional(DefineArgsGroupArgOutput(\n",
    "        StateArgsGroupIndex(2),\n",
    "        NodeArgIndex(2),\n",
    "        OptionalContext(Param.from_int(3)),\n",
    "    )),\n",
    "    exception=Optional(),\n",
    ")\n",
    "assert env.full_state.goal_achieved() is False"
   ]
  },
  {
   "cell_type": "code",
   "execution_count": 61,
   "metadata": {},
   "outputs": [],
   "source": [
    "from env.action_impl import DefineScratchFromFunctionWithArgs\n",
    "action = DefineScratchFromFunctionWithArgs.from_raw(3, 1, 1)\n",
    "env.step(action)\n",
    "current_state = get_current_state(env)\n",
    "last_history_meta = get_last_history_meta(env)"
   ]
  },
  {
   "cell_type": "code",
   "execution_count": 62,
   "metadata": {},
   "outputs": [],
   "source": [
    "call_1 = AndNode(\n",
    "    Param.from_int(1),\n",
    "    Param.from_int(2),\n",
    "    IntBooleanNode.from_int(1),\n",
    ")\n",
    "scratchs = tuple([AndNode.as_type(), OrNode.as_type(), call_1])\n",
    "\n",
    "assert current_state == State.from_raw(\n",
    "    scratchs=scratchs,\n",
    "    args_groups=args_groups,\n",
    ")\n",
    "assert last_history_meta == ActionData.from_args(\n",
    "    action=Optional(DefineScratchFromFunctionWithArgs(\n",
    "        StateScratchIndex(3),\n",
    "        StateScratchIndex(1),\n",
    "        Optional(StateArgsGroupIndex(1)),\n",
    "    )),\n",
    "    output=Optional(DefineScratchOutput(\n",
    "        StateScratchIndex(3),\n",
    "        Optional(call_1),\n",
    "    )),\n",
    "    exception=Optional(),\n",
    ")\n",
    "assert env.full_state.goal_achieved() is False"
   ]
  },
  {
   "cell_type": "code",
   "execution_count": 63,
   "metadata": {},
   "outputs": [],
   "source": [
    "from env.action_impl import DefineScratchFromFunctionWithArgs\n",
    "action = DefineScratchFromFunctionWithArgs.from_raw(1, 1, 2)\n",
    "env.step(action)\n",
    "current_state = get_current_state(env)\n",
    "last_history_meta = get_last_history_meta(env)"
   ]
  },
  {
   "cell_type": "code",
   "execution_count": 64,
   "metadata": {},
   "outputs": [],
   "source": [
    "call_2 = AndNode(\n",
    "    Param.from_int(2),\n",
    "    Param.from_int(3),\n",
    ")\n",
    "scratchs = tuple([call_2, OrNode.as_type(), call_1])\n",
    "\n",
    "assert current_state == State.from_raw(\n",
    "    scratchs=scratchs,\n",
    "    args_groups=args_groups,\n",
    ")\n",
    "assert last_history_meta == ActionData.from_args(\n",
    "    action=Optional(DefineScratchFromFunctionWithArgs(\n",
    "        StateScratchIndex(1),\n",
    "        StateScratchIndex(1),\n",
    "        Optional(StateArgsGroupIndex(2)),\n",
    "    )),\n",
    "    output=Optional(DefineScratchOutput(\n",
    "        StateScratchIndex(1),\n",
    "        Optional(call_2),\n",
    "    )),\n",
    "    exception=Optional(),\n",
    ")\n",
    "assert env.full_state.goal_achieved() is False"
   ]
  },
  {
   "cell_type": "code",
   "execution_count": 65,
   "metadata": {},
   "outputs": [],
   "source": [
    "from env.action_impl import DefineArgsGroup\n",
    "action = DefineArgsGroup.from_raw(2, 1, 3)\n",
    "env.step(action)\n",
    "current_state = get_current_state(env)\n",
    "last_history_meta = get_last_history_meta(env)"
   ]
  },
  {
   "cell_type": "code",
   "execution_count": 66,
   "metadata": {},
   "outputs": [],
   "source": [
    "arg_group_2 = PartialArgsGroup(\n",
    "    ExtendedTypeGroup(RestTypeGroup(UnknownType())),\n",
    "    LaxOpaqueScope(\n",
    "        ScopeId(1),\n",
    "        OptionalValueGroup(\n",
    "            Optional(call_1),\n",
    "            Optional(Param.from_int(3)),\n",
    "        ),\n",
    "    )\n",
    ")\n",
    "\n",
    "args_groups = tuple([arg_group, arg_group_2])\n",
    "\n",
    "assert current_state == State.from_raw(\n",
    "    scratchs=scratchs,\n",
    "    args_groups=args_groups\n",
    ")\n",
    "assert last_history_meta == ActionData.from_args(\n",
    "    action=Optional(DefineArgsGroup(\n",
    "        StateArgsGroupIndex(2),\n",
    "        NodeArgIndex(1),\n",
    "        StateScratchIndex(3),\n",
    "    )),\n",
    "    output=Optional(DefineArgsGroupArgOutput(\n",
    "        StateArgsGroupIndex(2),\n",
    "        NodeArgIndex(1),\n",
    "        OptionalContext(call_1),\n",
    "    )),\n",
    "    exception=Optional(),\n",
    ")\n",
    "assert env.full_state.goal_achieved() is False"
   ]
  },
  {
   "cell_type": "code",
   "execution_count": 67,
   "metadata": {},
   "outputs": [],
   "source": [
    "from env.action_impl import DefineArgsGroup\n",
    "action = DefineArgsGroup.from_raw(2, 2, 1)\n",
    "env.step(action)\n",
    "current_state = get_current_state(env)\n",
    "last_history_meta = get_last_history_meta(env)"
   ]
  },
  {
   "cell_type": "code",
   "execution_count": 68,
   "metadata": {},
   "outputs": [],
   "source": [
    "arg_group_2 = PartialArgsGroup(\n",
    "    ExtendedTypeGroup(RestTypeGroup(UnknownType())),\n",
    "    LaxOpaqueScope(\n",
    "        ScopeId(1),\n",
    "        OptionalValueGroup(\n",
    "            Optional(call_1),\n",
    "            Optional(call_2),\n",
    "        ),\n",
    "    )\n",
    ")\n",
    "\n",
    "args_groups = tuple([arg_group, arg_group_2])\n",
    "\n",
    "assert current_state == State.from_raw(\n",
    "    scratchs=scratchs,\n",
    "    args_groups=args_groups,\n",
    ")\n",
    "assert last_history_meta == ActionData.from_args(\n",
    "    action=Optional(DefineArgsGroup(\n",
    "        StateArgsGroupIndex(2),\n",
    "        NodeArgIndex(2),\n",
    "        StateScratchIndex(1),\n",
    "    )),\n",
    "    output=Optional(DefineArgsGroupArgOutput(\n",
    "        StateArgsGroupIndex(2),\n",
    "        NodeArgIndex(2),\n",
    "        OptionalContext(call_2),\n",
    "    )),\n",
    "    exception=Optional(),\n",
    ")\n",
    "assert env.full_state.goal_achieved() is False"
   ]
  },
  {
   "cell_type": "code",
   "execution_count": 69,
   "metadata": {},
   "outputs": [],
   "source": [
    "from env.action_impl import DefineScratchFromFunctionWithArgs\n",
    "action = DefineScratchFromFunctionWithArgs.from_raw(1, 2, 2)\n",
    "env.step(action)\n",
    "current_state = get_current_state(env)\n",
    "last_history_meta = get_last_history_meta(env)"
   ]
  },
  {
   "cell_type": "code",
   "execution_count": 70,
   "metadata": {},
   "outputs": [],
   "source": [
    "call_3 = OrNode(\n",
    "    call_1,\n",
    "    call_2,\n",
    ")\n",
    "scratchs = tuple([call_3, OrNode.as_type(), call_1])\n",
    "\n",
    "assert current_state == State.from_raw(\n",
    "    scratchs=scratchs,\n",
    "    args_groups=args_groups,\n",
    ")\n",
    "assert last_history_meta == ActionData.from_args(\n",
    "    action=Optional(DefineScratchFromFunctionWithArgs(\n",
    "        StateScratchIndex(1),\n",
    "        StateScratchIndex(2),\n",
    "        Optional(StateArgsGroupIndex(2)),\n",
    "    )),\n",
    "    output=Optional(DefineScratchOutput(\n",
    "        StateScratchIndex(1),\n",
    "        Optional(call_3),\n",
    "    )),\n",
    "    exception=Optional(),\n",
    ")\n",
    "assert env.full_state.goal_achieved() is False"
   ]
  },
  {
   "cell_type": "code",
   "execution_count": null,
   "metadata": {},
   "outputs": [],
   "source": [
    "GoalEnv.symbolic(current_state, node_types)"
   ]
  },
  {
   "cell_type": "code",
   "execution_count": null,
   "metadata": {},
   "outputs": [],
   "source": [
    "GoalEnv.data_array(current_state, node_types)"
   ]
  },
  {
   "cell_type": "code",
   "execution_count": 73,
   "metadata": {},
   "outputs": [],
   "source": [
    "from env.action_impl import DeleteArgsGroupOutput\n",
    "action = DeleteArgsGroupOutput.from_raw(1, 0, 0)\n",
    "env.step(action)\n",
    "current_state = get_current_state(env)\n",
    "last_history_meta = get_last_history_meta(env)"
   ]
  },
  {
   "cell_type": "code",
   "execution_count": 74,
   "metadata": {},
   "outputs": [],
   "source": [
    "args_groups = tuple([arg_group_2])\n",
    "\n",
    "assert current_state == State.from_raw(\n",
    "    scratchs=scratchs,\n",
    "    args_groups=args_groups,\n",
    ")\n",
    "assert last_history_meta == ActionData.from_args(\n",
    "    action=Optional(DeleteArgsGroupOutput(\n",
    "        StateArgsGroupIndex(1),\n",
    "    )),\n",
    "    output=Optional(DeleteArgsGroupOutput(\n",
    "        StateArgsGroupIndex(1),\n",
    "    )),\n",
    "    exception=Optional(),\n",
    ")\n",
    "assert env.full_state.goal_achieved() is False"
   ]
  },
  {
   "cell_type": "code",
   "execution_count": 75,
   "metadata": {},
   "outputs": [],
   "source": [
    "from env.action_impl import DeleteArgsGroupOutput\n",
    "action = DeleteArgsGroupOutput.from_raw(1, 0, 0)\n",
    "env.step(action)\n",
    "current_state = get_current_state(env)\n",
    "last_history_meta = get_last_history_meta(env)"
   ]
  },
  {
   "cell_type": "code",
   "execution_count": 76,
   "metadata": {},
   "outputs": [],
   "source": [
    "args_groups = tuple()\n",
    "\n",
    "assert current_state == State.from_raw(\n",
    "    scratchs=scratchs,\n",
    "    args_groups=args_groups\n",
    ")\n",
    "assert last_history_meta == ActionData.from_args(\n",
    "    action=Optional(DeleteArgsGroupOutput(\n",
    "        StateArgsGroupIndex(1),\n",
    "    )),\n",
    "    output=Optional(DeleteArgsGroupOutput(\n",
    "        StateArgsGroupIndex(1),\n",
    "    )),\n",
    "    exception=Optional(),\n",
    ")\n",
    "assert env.full_state.goal_achieved() is False"
   ]
  },
  {
   "cell_type": "code",
   "execution_count": 77,
   "metadata": {},
   "outputs": [],
   "source": [
    "from env.action_impl import DeleteScratchOutput\n",
    "action = DeleteScratchOutput.from_raw(3, 0, 0)\n",
    "env.step(action)\n",
    "current_state = get_current_state(env)\n",
    "last_history_meta = get_last_history_meta(env)"
   ]
  },
  {
   "cell_type": "code",
   "execution_count": 78,
   "metadata": {},
   "outputs": [],
   "source": [
    "scratchs = tuple([call_3, OrNode.as_type()])\n",
    "\n",
    "assert current_state == State.from_raw(\n",
    "    scratchs=scratchs,\n",
    "    args_groups=args_groups,\n",
    ")\n",
    "assert last_history_meta == ActionData.from_args(\n",
    "    action=Optional(DeleteScratchOutput(\n",
    "        StateScratchIndex(3),\n",
    "    )),\n",
    "    output=Optional(DeleteScratchOutput(\n",
    "        StateScratchIndex(3),\n",
    "    )),\n",
    "    exception=Optional(),\n",
    ")\n",
    "assert env.full_state.goal_achieved() is False"
   ]
  },
  {
   "cell_type": "code",
   "execution_count": 79,
   "metadata": {},
   "outputs": [],
   "source": [
    "from env.action_impl import DeleteScratchOutput\n",
    "action = DeleteScratchOutput.from_raw(2, 0, 0)\n",
    "env.step(action)\n",
    "current_state = get_current_state(env)\n",
    "last_history_meta = get_last_history_meta(env)"
   ]
  },
  {
   "cell_type": "code",
   "execution_count": 80,
   "metadata": {},
   "outputs": [],
   "source": [
    "scratchs = tuple([call_3])\n",
    "\n",
    "assert current_state == State.from_raw(\n",
    "    scratchs=scratchs,\n",
    "    args_groups=args_groups,\n",
    ")\n",
    "assert last_history_meta == ActionData.from_args(\n",
    "    action=Optional(DeleteScratchOutput(\n",
    "        StateScratchIndex(2),\n",
    "    )),\n",
    "    output=Optional(DeleteScratchOutput(\n",
    "        StateScratchIndex(2),\n",
    "    )),\n",
    "    exception=Optional(),\n",
    ")\n",
    "assert env.full_state.goal_achieved() is False"
   ]
  },
  {
   "cell_type": "code",
   "execution_count": 81,
   "metadata": {},
   "outputs": [],
   "source": [
    "from env.core import FunctionExpr\n",
    "from env.action_impl import DefineScratchFromSingleArg\n",
    "\n",
    "def get_single_child_type_index(node_type: type[INode], env: GoalEnv):\n",
    "    selected_types = env.full_state.meta.apply().nested_args((\n",
    "        MetaInfo.idx_single_child_group,\n",
    "        SubtypeOuterGroup.idx_subtypes,\n",
    "    )).apply().cast(GeneralTypeGroup)\n",
    "    meta_idx = selected_types.as_tuple.index(node_type.as_type()) + 1\n",
    "    return meta_idx\n",
    "\n",
    "meta_idx = get_single_child_type_index(FunctionExpr, env)\n",
    "action = DefineScratchFromSingleArg.from_raw(1, meta_idx, 1)\n",
    "env.step(action)\n",
    "current_state = get_current_state(env)\n",
    "last_history_meta = get_last_history_meta(env)"
   ]
  },
  {
   "cell_type": "code",
   "execution_count": null,
   "metadata": {},
   "outputs": [],
   "source": [
    "GoalEnv.symbolic(current_state, node_types)"
   ]
  },
  {
   "cell_type": "code",
   "execution_count": null,
   "metadata": {},
   "outputs": [],
   "source": [
    "GoalEnv.data_array(current_state, node_types)"
   ]
  },
  {
   "cell_type": "code",
   "execution_count": 84,
   "metadata": {},
   "outputs": [],
   "source": [
    "from env.state import Scratch\n",
    "content = current_state.nested_args((\n",
    "    State.idx_scratch_group,\n",
    "    1,\n",
    "    Scratch.idx_child,\n",
    "    Optional.idx_value,\n",
    ")).apply()\n",
    "assert content == goal.definition_expr.apply()"
   ]
  },
  {
   "cell_type": "code",
   "execution_count": null,
   "metadata": {},
   "outputs": [],
   "source": [
    "from env.state import StateScratchIndex\n",
    "verification = goal.evaluate(current_state, StateScratchIndex(1))\n",
    "verification.raise_on_false()\n",
    "verification.as_bool"
   ]
  },
  {
   "cell_type": "code",
   "execution_count": 86,
   "metadata": {},
   "outputs": [],
   "source": [
    "from env.action_impl import CreateScratch\n",
    "action = CreateScratch.create()\n",
    "env.step(action)\n",
    "\n",
    "meta_idx = get_from_int_type_index(Param, env)\n",
    "action = DefineScratchFromInt.from_raw(2, meta_idx, 4)\n",
    "env.step(action)\n",
    "current_state = get_current_state(env)\n",
    "last_history_meta = get_last_history_meta(env)"
   ]
  },
  {
   "cell_type": "code",
   "execution_count": null,
   "metadata": {},
   "outputs": [],
   "source": [
    "from env.state import StateScratchIndex\n",
    "verification = goal.evaluate(current_state, StateScratchIndex(2))\n",
    "verification.as_bool"
   ]
  },
  {
   "cell_type": "code",
   "execution_count": 88,
   "metadata": {},
   "outputs": [],
   "source": [
    "action = DeleteScratchOutput.from_raw(2, 0, 0)\n",
    "env.step(action)\n",
    "current_state = get_current_state(env)\n",
    "last_history_meta = get_last_history_meta(env)"
   ]
  },
  {
   "cell_type": "code",
   "execution_count": 89,
   "metadata": {},
   "outputs": [],
   "source": [
    "from env.action_impl import VerifyGoal\n",
    "from env.state import StateScratchIndex\n",
    "meta_idx = get_from_int_type_index(StateScratchIndex, env)\n",
    "action = VerifyGoal.from_raw(0, meta_idx, 1)\n",
    "env.step(action)\n",
    "current_state = get_current_state(env)\n",
    "last_history_meta = get_last_history_meta(env)"
   ]
  },
  {
   "cell_type": "code",
   "execution_count": null,
   "metadata": {},
   "outputs": [],
   "source": [
    "GoalEnv.symbolic(current_state, node_types)"
   ]
  },
  {
   "cell_type": "code",
   "execution_count": null,
   "metadata": {},
   "outputs": [],
   "source": [
    "GoalEnv.symbolic(last_history_meta, node_types)"
   ]
  },
  {
   "cell_type": "code",
   "execution_count": null,
   "metadata": {},
   "outputs": [],
   "source": [
    "from env.action_impl import VerifyGoalOutput\n",
    "from env.state import StateMetaInfo, GoalAchieved\n",
    "\n",
    "scratch_goal = FunctionExpr(ExtendedTypeGroup.rest(), call_3)\n",
    "\n",
    "assert current_state == State.from_raw(\n",
    "    meta_info=StateMetaInfo.create_with_goal(GoalAchieved.achieved()),\n",
    "    scratchs=[scratch_goal],\n",
    "    args_groups=args_groups,\n",
    ")\n",
    "assert last_history_meta == ActionData.from_args(\n",
    "    action=Optional(VerifyGoal(\n",
    "        Optional(),\n",
    "        MetaFromIntTypeIndex(meta_idx),\n",
    "        Integer(1),\n",
    "    )),\n",
    "    output=Optional(VerifyGoalOutput(\n",
    "        Optional(),\n",
    "        StateScratchIndex(1),\n",
    "\n",
    "    )),\n",
    "    exception=Optional(),\n",
    ")\n",
    "assert env.full_state.goal_achieved() is True"
   ]
  }
 ],
 "metadata": {
  "kernelspec": {
   "display_name": "dev",
   "language": "python",
   "name": "python3"
  },
  "language_info": {
   "codemirror_mode": {
    "name": "ipython",
    "version": 3
   },
   "file_extension": ".py",
   "mimetype": "text/x-python",
   "name": "python",
   "nbconvert_exporter": "python",
   "pygments_lexer": "ipython3",
   "version": "3.11.5"
  }
 },
 "nbformat": 4,
 "nbformat_minor": 2
}
